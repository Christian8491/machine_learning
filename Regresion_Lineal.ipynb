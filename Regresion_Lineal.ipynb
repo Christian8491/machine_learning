{
 "cells": [
  {
   "cell_type": "code",
   "execution_count": 1,
   "metadata": {
    "collapsed": true
   },
   "outputs": [],
   "source": [
    "# Import librarys\n",
    "import pandas as pd"
   ]
  },
  {
   "cell_type": "code",
   "execution_count": 2,
   "metadata": {
    "collapsed": false
   },
   "outputs": [
    {
     "data": {
      "text/plain": [
       "1    230.1\n",
       "2     44.5\n",
       "3     17.2\n",
       "4    151.5\n",
       "5    180.8\n",
       "Name: TV, dtype: float64"
      ]
     },
     "execution_count": 2,
     "metadata": {},
     "output_type": "execute_result"
    }
   ],
   "source": [
    "# read CSV file directly from a URL\n",
    "# use .read_csv method and pass the name of the file\n",
    "# D:/Computer_Science/Ciclo_II/Machine_Learning/Data_Excel/Advertising.csv -> local\n",
    "# 'http://www-bcf.usc.edu/~gareth/ISL/Advertising.csv' -> url\n",
    "data = pd.read_csv('D:/Computer_Science/Ciclo_II/Machine_Learning/Data_Excel/Advertising.csv', index_col=0)\n",
    "\n",
    "# data: display all rows\n",
    "#data.head(): display the first 5 rows\n",
    "data['TV'].head()   # display the first 5 data in 'TV' column"
   ]
  },
  {
   "cell_type": "code",
   "execution_count": 3,
   "metadata": {
    "collapsed": false
   },
   "outputs": [
    {
     "data": {
      "text/html": [
       "<div>\n",
       "<table border=\"1\" class=\"dataframe\">\n",
       "  <thead>\n",
       "    <tr style=\"text-align: right;\">\n",
       "      <th></th>\n",
       "      <th>TV</th>\n",
       "      <th>radio</th>\n",
       "      <th>newspaper</th>\n",
       "      <th>sales</th>\n",
       "    </tr>\n",
       "  </thead>\n",
       "  <tbody>\n",
       "    <tr>\n",
       "      <th>196</th>\n",
       "      <td>38.2</td>\n",
       "      <td>3.7</td>\n",
       "      <td>13.8</td>\n",
       "      <td>7.6</td>\n",
       "    </tr>\n",
       "    <tr>\n",
       "      <th>197</th>\n",
       "      <td>94.2</td>\n",
       "      <td>4.9</td>\n",
       "      <td>8.1</td>\n",
       "      <td>9.7</td>\n",
       "    </tr>\n",
       "    <tr>\n",
       "      <th>198</th>\n",
       "      <td>177.0</td>\n",
       "      <td>9.3</td>\n",
       "      <td>6.4</td>\n",
       "      <td>12.8</td>\n",
       "    </tr>\n",
       "    <tr>\n",
       "      <th>199</th>\n",
       "      <td>283.6</td>\n",
       "      <td>42.0</td>\n",
       "      <td>66.2</td>\n",
       "      <td>25.5</td>\n",
       "    </tr>\n",
       "    <tr>\n",
       "      <th>200</th>\n",
       "      <td>232.1</td>\n",
       "      <td>8.6</td>\n",
       "      <td>8.7</td>\n",
       "      <td>13.4</td>\n",
       "    </tr>\n",
       "  </tbody>\n",
       "</table>\n",
       "</div>"
      ],
      "text/plain": [
       "        TV  radio  newspaper  sales\n",
       "196   38.2    3.7       13.8    7.6\n",
       "197   94.2    4.9        8.1    9.7\n",
       "198  177.0    9.3        6.4   12.8\n",
       "199  283.6   42.0       66.2   25.5\n",
       "200  232.1    8.6        8.7   13.4"
      ]
     },
     "execution_count": 3,
     "metadata": {},
     "output_type": "execute_result"
    }
   ],
   "source": [
    "# data['TV'].tail() -> display the last 5 TV data\n",
    "data.tail()     # display the last 5 rows"
   ]
  },
  {
   "cell_type": "code",
   "execution_count": 4,
   "metadata": {
    "collapsed": false
   },
   "outputs": [
    {
     "data": {
      "text/plain": [
       "(200, 4)"
      ]
     },
     "execution_count": 4,
     "metadata": {},
     "output_type": "execute_result"
    }
   ],
   "source": [
    "# check the shape of the DataFrame (rows, columns)\n",
    "# there are 200 rows x 4 columns\n",
    "data.shape"
   ]
  },
  {
   "cell_type": "markdown",
   "metadata": {},
   "source": [
    "# Visualizing data"
   ]
  },
  {
   "cell_type": "code",
   "execution_count": 5,
   "metadata": {
    "collapsed": false
   },
   "outputs": [],
   "source": [
    "# conventional way to import seaborn \n",
    "# In command install:   pip install seaborn\n",
    "import seaborn as sns\n",
    "\n",
    "# allow plots to appear within the notebook\n",
    "%matplotlib inline"
   ]
  },
  {
   "cell_type": "code",
   "execution_count": 6,
   "metadata": {
    "collapsed": false
   },
   "outputs": [
    {
     "data": {
      "text/plain": [
       "<seaborn.axisgrid.PairGrid at 0xb824208>"
      ]
     },
     "execution_count": 6,
     "metadata": {},
     "output_type": "execute_result"
    },
    {
     "data": {
      "image/png": "[encoded data removed]",
      "text/plain": [
       "<matplotlib.figure.Figure at 0xb824240>"
      ]
     },
     "metadata": {},
     "output_type": "display_data"
    }
   ],
   "source": [
    "# visualize the relationship between the features and the response using scatterplots\n",
    "# this produces pairs of scatterplot as shown\n",
    "# use aspect= to control the size of the graphs\n",
    "# use kind='reg' to plot linear regression on the graph\n",
    "sns.pairplot(data, x_vars=['TV', 'radio', 'newspaper'], y_vars='sales', size=7, aspect=0.7, kind='reg')"
   ]
  },
  {
   "cell_type": "code",
   "execution_count": 7,
   "metadata": {
    "collapsed": false
   },
   "outputs": [
    {
     "data": {
      "text/html": [
       "<div>\n",
       "<table border=\"1\" class=\"dataframe\">\n",
       "  <thead>\n",
       "    <tr style=\"text-align: right;\">\n",
       "      <th></th>\n",
       "      <th>TV</th>\n",
       "      <th>radio</th>\n",
       "      <th>newspaper</th>\n",
       "    </tr>\n",
       "  </thead>\n",
       "  <tbody>\n",
       "    <tr>\n",
       "      <th>1</th>\n",
       "      <td>230.1</td>\n",
       "      <td>37.8</td>\n",
       "      <td>69.2</td>\n",
       "    </tr>\n",
       "    <tr>\n",
       "      <th>2</th>\n",
       "      <td>44.5</td>\n",
       "      <td>39.3</td>\n",
       "      <td>45.1</td>\n",
       "    </tr>\n",
       "    <tr>\n",
       "      <th>3</th>\n",
       "      <td>17.2</td>\n",
       "      <td>45.9</td>\n",
       "      <td>69.3</td>\n",
       "    </tr>\n",
       "    <tr>\n",
       "      <th>4</th>\n",
       "      <td>151.5</td>\n",
       "      <td>41.3</td>\n",
       "      <td>58.5</td>\n",
       "    </tr>\n",
       "    <tr>\n",
       "      <th>5</th>\n",
       "      <td>180.8</td>\n",
       "      <td>10.8</td>\n",
       "      <td>58.4</td>\n",
       "    </tr>\n",
       "  </tbody>\n",
       "</table>\n",
       "</div>"
      ],
      "text/plain": [
       "      TV  radio  newspaper\n",
       "1  230.1   37.8       69.2\n",
       "2   44.5   39.3       45.1\n",
       "3   17.2   45.9       69.3\n",
       "4  151.5   41.3       58.5\n",
       "5  180.8   10.8       58.4"
      ]
     },
     "execution_count": 7,
     "metadata": {},
     "output_type": "execute_result"
    }
   ],
   "source": [
    "# create a Python list of feature names\n",
    "feature_cols = ['TV', 'radio', 'newspaper']\n",
    "\n",
    "# use the list to select a subset of the original DataFrame\n",
    "X = pd.DataFrame(data, columns=feature_cols) \n",
    "\n",
    "# print the first 5 rows\n",
    "X.head()   # X is a DataFrame"
   ]
  },
  {
   "cell_type": "code",
   "execution_count": 8,
   "metadata": {
    "collapsed": false
   },
   "outputs": [
    {
     "name": "stdout",
     "output_type": "stream",
     "text": [
      "<class 'pandas.core.frame.DataFrame'>\n",
      "(200, 3)\n"
     ]
    }
   ],
   "source": [
    "# check the type and shape of X\n",
    "print(type(X))\n",
    "print(X.shape)"
   ]
  },
  {
   "cell_type": "code",
   "execution_count": 9,
   "metadata": {
    "collapsed": false
   },
   "outputs": [
    {
     "data": {
      "text/plain": [
       "1    22.1\n",
       "2    10.4\n",
       "3     9.3\n",
       "4    18.5\n",
       "5    12.9\n",
       "Name: sales, dtype: float64"
      ]
     },
     "execution_count": 9,
     "metadata": {},
     "output_type": "execute_result"
    }
   ],
   "source": [
    "# select a sales from the DataFrame, y = vector of sales\n",
    "y = data['sales']\n",
    "\n",
    "# print the first 5 values\n",
    "y.head()\n",
    "\n",
    "# y.shape -> (200),  type(y) -> Series)"
   ]
  },
  {
   "cell_type": "markdown",
   "metadata": {},
   "source": [
    "# Splitting X and y into training and testing sets"
   ]
  },
  {
   "cell_type": "code",
   "execution_count": 10,
   "metadata": {
    "collapsed": false
   },
   "outputs": [],
   "source": [
    "# import, a subset is training (train) and the other subset is testing (test)\n",
    "# In command install:  pip install -U scikit-learn (deprecated)\n",
    "# In command install: python -m pip install --upgrade pip\n",
    "\n",
    "from sklearn.model_selection import train_test_split\n",
    "# train_test_split(): Function that divide the total of data in two groups (train and test)\n",
    "# random_state: select randomly rows\n",
    "X_train, X_test, y_train, y_test = train_test_split(X, y, random_state = 1)"
   ]
  },
  {
   "cell_type": "code",
   "execution_count": 17,
   "metadata": {
    "collapsed": false
   },
   "outputs": [
    {
     "name": "stdout",
     "output_type": "stream",
     "text": [
      "(150, 3)\n",
      "(50, 3)\n",
      "(150,)\n",
      "(50,)\n"
     ]
    }
   ],
   "source": [
    "# default split is 75% for training and 25% for testing\n",
    "print(X_train.shape)\n",
    "print(X_test.shape)\n",
    "print(y_train.shape)\n",
    "print(y_test.shape)"
   ]
  },
  {
   "cell_type": "markdown",
   "metadata": {},
   "source": [
    "# Linear Regression"
   ]
  },
  {
   "cell_type": "code",
   "execution_count": 55,
   "metadata": {
    "collapsed": false
   },
   "outputs": [
    {
     "name": "stdout",
     "output_type": "stream",
     "text": [
      "2.876973654\n",
      "0.046565888\n",
      "0.179160502\n",
      "0.003454423\n",
      "\n",
      "NOW sqrt(newspaper)\n",
      "2.876973653\n",
      "0.046565888\n",
      "0.179160502\n",
      "0.003454956\n"
     ]
    }
   ],
   "source": [
    "# import model\n",
    "from sklearn.linear_model import LinearRegression\n",
    "\n",
    "# instantiate\n",
    "linreg = LinearRegression()\n",
    "\n",
    "# fit the model to the training data (learn the coefficients)\n",
    "linreg.fit(X_train, y_train)\n",
    "\n",
    "## Excercise 1  - Try your own linear regression algorithm \n",
    "# This program calculate 'Theta' vector parameters which optimize a Regresion Lineal\n",
    "# Data: X_train -> matrix (150x3), y_train -> vector (150)\n",
    "\n",
    "# Theta_1 -> tv, Theta_2 -> radio, Theta_3 -> newspaper, Theta_0 -> intercept\n",
    "# Theta_t -> transpose of vector Theta\n",
    "# m: size of proof, a is a parameter (learning rate)\n",
    "# Model of Regresion Lineal: h_theta(X) = Theta_t * X   (hypothesis)\n",
    "\n",
    "# Cost function: J(Theta) = (1/2m) Sumatory (h_theta(x_i) - y_i)^2    i = {1,..,m}\n",
    "\n",
    "# Gradient Descent Algorithm:  Theta_j = Theta_j - a d(J(Theta))/d(Theta_j)   j = {0,1,2,3}\n",
    "import numpy as np\n",
    "\n",
    "# Initials variables \n",
    "m = 150                                             # size of data training\n",
    "a = 0.000001                                        # learning rate\n",
    "b = a / m\n",
    "e = 0.000001                                        # ERROR\n",
    "Theta = np.array([0,0,0,0])                         # initial values of vector Theta\n",
    "size_Theta = len(Theta)\n",
    "answer = np.array([2.87696662232, 0.04656457, 0.17915812, 0.00345046])\n",
    "\n",
    "# Util variables\n",
    "X = np.array(X_train)                                # X is an array\n",
    "X = np.insert(X, 0, values = 1, axis = 1)            # add a first column of ones \n",
    "y = np.array(y_train)                                # y is an array\n",
    "\n",
    "# Aplying FEATURE SCALING (accelerates convergence)\n",
    "X[:,1] = X[:,1] / np.max(X[:,1])                     # maximum of TVs -> 296.4\n",
    "X[:,2] = X[:,2] / np.max(X[:,2])                     # maximum of radios -> 49.4\n",
    "X[:,3] = X[:,3] / np.max(X[:,3])                     # maximum of newspaper -> 100.9\n",
    "\n",
    "for i in range(0, size_Theta):\n",
    "    val = Theta[i]\n",
    "    while (val - answer[i] < e):\n",
    "        v = np.subtract(X.dot(Theta), y)             # h_theta(x_i) - y_i\n",
    "        v_i = v.dot(X[:,i])\n",
    "        val = Theta[i] - b * v_i\n",
    "        #Theta[i] = val;\n",
    "        if (i == 0):\n",
    "            Theta = np.array([val, 0, 0, 0])                # initial values of vector Theta\n",
    "        if (i == 1):\n",
    "            Theta = np.array([0, val, 0, 0])                # initial values of vector Theta \n",
    "        if (i == 2):\n",
    "            Theta = np.array([val, 0, val, 0])              # initial values of vector Theta\n",
    "        if (i == 3):\n",
    "            Theta = np.array([0, 0, 0, val])                # initial values of vector Theta\n",
    "    print(round(Theta[i],9))\n",
    "\n",
    "print(\"\\nNOW sqrt(newspaper)\")\n",
    "# NOW, SQRT(NEWSPAPER) because it has very weak relation)\n",
    "# Aplying FEATURE SCALING (accelerates convergence)\n",
    "X[:,1] = X[:,1] / np.max(X[:,1])                     # maximum of TVs -> 296.4\n",
    "X[:,2] = X[:,2] / np.max(X[:,2])                     # maximum of radios -> 49.4\n",
    "X[:,3] = np.sqrt(X[:,3])\n",
    "X[:,3] = X[:,3] / np.max(X[:,3])                     # maximum of newspaper -> 100.9\n",
    "\n",
    "for i in range(0, size_Theta):\n",
    "    val = Theta[i]\n",
    "    while (val - answer[i] < e):\n",
    "        v = np.subtract(X.dot(Theta), y)             # h_theta(x_i) - y_i\n",
    "        v_i = v.dot(X[:,i])\n",
    "        val = Theta[i] - b * v_i\n",
    "        #Theta[i] = val;\n",
    "        if (i == 0):\n",
    "            Theta = np.array([val, 0, 0, 0])                # initial values of vector Theta\n",
    "        if (i == 1):\n",
    "            Theta = np.array([0, val, 0, 0])                # initial values of vector Theta \n",
    "        if (i == 2):\n",
    "            Theta = np.array([val, 0, val, 0])              # initial values of vector Theta\n",
    "        if (i == 3):\n",
    "            Theta = np.array([0, 0, 0, val])                # initial values of vector Theta\n",
    "    print(round(Theta[i],9))"
   ]
  },
  {
   "cell_type": "markdown",
   "metadata": {},
   "source": [
    "# Interpreting model coefficients"
   ]
  },
  {
   "cell_type": "code",
   "execution_count": 45,
   "metadata": {
    "collapsed": false
   },
   "outputs": [
    {
     "name": "stdout",
     "output_type": "stream",
     "text": [
      "2.87696662232\n",
      "[ 0.04656457  0.17915812  0.00345046]\n"
     ]
    }
   ],
   "source": [
    "# print the intercept and coefficients\n",
    "print(linreg.intercept_)                  #theta 0\n",
    "print(linreg.coef_)                       #theta1(TV)  theta2(Radio)  theta3(newspaper)\n"
   ]
  },
  {
   "cell_type": "code",
   "execution_count": 46,
   "metadata": {
    "collapsed": false
   },
   "outputs": [
    {
     "data": {
      "text/plain": [
       "<zip at 0xd7960c8>"
      ]
     },
     "execution_count": 46,
     "metadata": {},
     "output_type": "execute_result"
    }
   ],
   "source": [
    "# pair the feature names with the coefficients\n",
    "# hard to remember the order, we so we python's zip function to pair the feature names with the coefficients\n",
    "zip(feature_cols, linreg.coef_)"
   ]
  },
  {
   "cell_type": "markdown",
   "metadata": {
    "collapsed": true
   },
   "source": [
    "y=2.88+0.0466×TV+0.179×radio+0.00345×Newspaper \n",
    "\n",
    "How do we interpret the TV coefficient (0.0466)? For a given amount of Radio and Newspaper ad spending, a \"unit\" increase in TV ad spending is associated with a 0.0466 \"unit\" increase in Sales. Or more clearly: For a given amount of Radio and Newspaper ad spending, an additional $1,000 spent on TV ads is associated with an increase in sales of 46.6 items"
   ]
  },
  {
   "cell_type": "markdown",
   "metadata": {},
   "source": [
    "# Making Predictions"
   ]
  },
  {
   "cell_type": "code",
   "execution_count": 51,
   "metadata": {
    "collapsed": false
   },
   "outputs": [],
   "source": [
    "# make predictions on the testing set (library result)\n",
    "y_pred = linreg.predict(X_test)\n",
    "#print(y_pred)\n",
    "\n",
    "#make predictions with my parameters of Theta vector (my result)\n",
    "# instantiate\n",
    "linreg2 = LinearRegression()\n",
    "linreg2.intercept_ = np.float64(2.877072617)\n",
    "linreg2.coef_ = np.array([0.046624628, 0.179197134, 0.003453685])\n",
    "my_y_pred = linreg2.predict(X_test)\n",
    "\n",
    "\n",
    "# instantiate\n",
    "linreg3 = LinearRegression()\n",
    "linreg3.intercept_ = np.float64(2.876973654)\n",
    "linreg3.coef_ = np.array([0.046565888, 0.179160502, 0.003454956])\n",
    "my_y_pred3 = linreg3.predict(X_test)"
   ]
  },
  {
   "cell_type": "markdown",
   "metadata": {},
   "source": [
    "We need an evaluation metric in order to compare our predictions with the actual values."
   ]
  },
  {
   "cell_type": "markdown",
   "metadata": {
    "collapsed": true
   },
   "source": [
    "# 4. Model evaluation metrics for regression"
   ]
  },
  {
   "cell_type": "code",
   "execution_count": 52,
   "metadata": {
    "collapsed": true
   },
   "outputs": [],
   "source": [
    "# calculate MAE using scikit-learn\n",
    "from sklearn import metrics"
   ]
  },
  {
   "cell_type": "markdown",
   "metadata": {},
   "source": [
    "**Mean Absolute Error (MAE)** is the mean of the absolute value of the errors:\n",
    "    $$\\frac{1}{m}\\sum_{i=1}^{m}|y^{(i)}-y'^{(i)}|$$"
   ]
  },
  {
   "cell_type": "markdown",
   "metadata": {},
   "source": [
    "**Mean Squared Error (MSE)** is the mean of the squared errors:\n",
    "    $$\\frac{1}{m}\\sum_{i=1}^{m}(y^{(i)}-y'^{(i)})^2$$"
   ]
  },
  {
   "cell_type": "markdown",
   "metadata": {},
   "source": [
    "**Root Mean Squared Error (RMSE)** is the square root of the mean of the squared errors:\n",
    "     $$\\sqrt{\\frac{1}{m}\\sum_{i=1}^{m}(y^{(i)}-y'^{(i)})^2}$$"
   ]
  },
  {
   "cell_type": "markdown",
   "metadata": {},
   "source": [
    "Comparing these metrics:\n",
    "- MAE is the easiest to understand, because it's the average error.\n",
    "- MSE is more popular than MAE, because MSE \"punishes\" larger errors.\n",
    "- RMSE is even more popular than MSE, because RMSE is interpretable in the \"y\" units. Easier to put in context as it's the same units as our response variable"
   ]
  },
  {
   "cell_type": "markdown",
   "metadata": {},
   "source": [
    "## Computing the RMSE for our Sales predictions"
   ]
  },
  {
   "cell_type": "code",
   "execution_count": 53,
   "metadata": {
    "collapsed": false
   },
   "outputs": [
    {
     "name": "stdout",
     "output_type": "stream",
     "text": [
      "1.40465142303\n",
      "1.40480398964\n",
      "1.40464904515\n"
     ]
    }
   ],
   "source": [
    "# RMSE: it should be as small as possible  (library predictions)\n",
    "print(np.sqrt(metrics.mean_squared_error(y_test, y_pred)))\n",
    "\n",
    "\n",
    "# RMSE: it should be as small as possible  (my prediction)\n",
    "print(np.sqrt(metrics.mean_squared_error(y_test, my_y_pred)))\n",
    "\n",
    "# RMSE: it should be as small as possible  (my prediction with srqt(newspaper))\n",
    "print(np.sqrt(metrics.mean_squared_error(y_test, my_y_pred3)))"
   ]
  },
  {
   "cell_type": "markdown",
   "metadata": {},
   "source": [
    "we can see that when I use the formula:\n",
    "$$y=\\theta_0+\\theta_1\\times TV+\\theta_2\\times Radio+\\theta_3 \\times Newspaper $$\n",
    "\n",
    "the library prediction is a little better than my prediction, but when I use the formula:\n",
    "$$y=\\theta_0+\\theta_1\\times TV+\\theta_2\\times Radio+\\theta_3 \\times \\sqrt{Newspaper} $$\n",
    "\n",
    "my new prediction is a little better so far."
   ]
  },
  {
   "cell_type": "code",
   "execution_count": null,
   "metadata": {
    "collapsed": true
   },
   "outputs": [],
   "source": []
  }
 ],
 "metadata": {
  "anaconda-cloud": {},
  "kernelspec": {
   "display_name": "Python 3",
   "language": "python",
   "name": "python3"
  },
  "language_info": {
   "codemirror_mode": {
    "name": "ipython",
    "version": 3
   },
   "file_extension": ".py",
   "mimetype": "text/x-python",
   "name": "python",
   "nbconvert_exporter": "python",
   "pygments_lexer": "ipython3",
   "version": "3.5.2"
  }
 },
 "nbformat": 4,
 "nbformat_minor": 1
}
